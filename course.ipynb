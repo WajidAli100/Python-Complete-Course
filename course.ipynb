{
 "cells": [
  {
   "cell_type": "code",
   "execution_count": null,
   "metadata": {},
   "outputs": [],
   "source": []
  },
  {
   "cell_type": "markdown",
   "metadata": {},
   "source": [
    "# Start Programming"
   ]
  },
  {
   "cell_type": "code",
   "execution_count": 1,
   "metadata": {},
   "outputs": [
    {
     "name": "stdout",
     "output_type": "stream",
     "text": [
      "hello\n"
     ]
    }
   ],
   "source": [
    "print(\"hello\")"
   ]
  },
  {
   "cell_type": "markdown",
   "metadata": {},
   "source": []
  },
  {
   "cell_type": "code",
   "execution_count": 2,
   "metadata": {},
   "outputs": [
    {
     "name": "stdout",
     "output_type": "stream",
     "text": [
      "Hello world\n",
      "Hello world\n",
      "Hello world\n",
      "Hello world\n",
      "Hello world\n",
      "Hello world\n"
     ]
    }
   ],
   "source": [
    "print(\"Hello world\")\n",
    "print(\"Hello world\")\n",
    "print(\"Hello world\")\n",
    "print(\"Hello world\")\n",
    "print(\"Hello world\")\n",
    "print(\"Hello world\")"
   ]
  },
  {
   "cell_type": "markdown",
   "metadata": {},
   "source": [
    "# Naming conventions in Python"
   ]
  },
  {
   "cell_type": "code",
   "execution_count": 2,
   "metadata": {},
   "outputs": [
    {
     "name": "stdout",
     "output_type": "stream",
     "text": [
      "Python\n",
      "Python\n",
      "PYTHON\n"
     ]
    }
   ],
   "source": [
    "my_course = \"Python\"\n",
    "MyCourse = \"Python\"\n",
    "MYCOURSE= \"PYTHON\"\n",
    "print(my_course)\n",
    "print(MyCourse)\n",
    "print(MYCOURSE)\n",
    "x= \"Python\"\n",
    "a= \"python\"\n",
    "# don't use reserve keywords  like for ,if ,class\n",
    "my__course =\"course\"\n",
    "my_course_name_is_python=\"python\"\n",
    "# temp, foo"
   ]
  },
  {
   "cell_type": "markdown",
   "metadata": {},
   "source": [
    "# Different types of strings\n"
   ]
  },
  {
   "cell_type": "code",
   "execution_count": 7,
   "metadata": {},
   "outputs": [
    {
     "name": "stdout",
     "output_type": "stream",
     "text": [
      "course:python\n",
      "Text:123\n",
      "Message:it's crucial\n"
     ]
    }
   ],
   "source": [
    "name= 'python'\n",
    "txt=  \"123\"\n",
    "Message= \"it's crucial\"\n",
    "print(\"course:\" + name + \"\\nText:\" + txt + \"\\nMessage:\" + Message)\n",
    "\n"
   ]
  },
  {
   "cell_type": "markdown",
   "metadata": {},
   "source": [
    "# Multiline String"
   ]
  },
  {
   "cell_type": "code",
   "execution_count": 10,
   "metadata": {},
   "outputs": [
    {
     "name": "stdout",
     "output_type": "stream",
     "text": [
      "\n",
      "The quick brown fox \n",
      "jumps over the \n",
      "lazy dog\n",
      "\n"
     ]
    }
   ],
   "source": [
    "# ''' ''', \"\"\" \"\"\"\n",
    "multline_string = '''\n",
    "The quick brown fox \n",
    "jumps over the \n",
    "lazy dog\n",
    "'''\n",
    "print(multline_string)"
   ]
  },
  {
   "cell_type": "markdown",
   "metadata": {},
   "source": [
    "# f string "
   ]
  },
  {
   "cell_type": "code",
   "execution_count": 13,
   "metadata": {},
   "outputs": [
    {
     "name": "stdout",
     "output_type": "stream",
     "text": [
      "my course Python message: it's crucial\n"
     ]
    }
   ],
   "source": [
    "name = f\"my course {my_course} message: {Message}\"\n",
    "print(name)"
   ]
  },
  {
   "cell_type": "markdown",
   "metadata": {},
   "source": [
    "# Python Operators\n",
    " Arithmetic operators\n",
    "\n",
    " \n",
    "\n",
    "\n"
   ]
  },
  {
   "cell_type": "code",
   "execution_count": 11,
   "metadata": {},
   "outputs": [
    {
     "name": "stdout",
     "output_type": "stream",
     "text": [
      "11\n",
      "5\n",
      "24\n",
      "2.6666666666666665\n",
      "2\n",
      "512\n",
      "16\n",
      "27\n"
     ]
    }
   ],
   "source": [
    "x: int = 8\n",
    "y: int = 3\n",
    "\n",
    "print(x + y) #addition\n",
    "print(x - y) #sub\n",
    "print( x * y) # Multiplication\n",
    "print( x / y) #divsion 8/3 \n",
    "print(x % y) #modulus\n",
    "print( x ** y) #exponent 8 * 8 * 8\n",
    "print(2 ** 4) # 2*2*2*2\n",
    "print(3 ** 3) # 3*3*3\n"
   ]
  },
  {
   "cell_type": "code",
   "execution_count": 13,
   "metadata": {},
   "outputs": [
    {
     "name": "stdout",
     "output_type": "stream",
     "text": [
      "2\n"
     ]
    }
   ],
   "source": [
    "# floor division\n",
    "print( x // y)"
   ]
  },
  {
   "cell_type": "markdown",
   "metadata": {},
   "source": [
    "#  Assignment Operators"
   ]
  },
  {
   "cell_type": "code",
   "execution_count": 14,
   "metadata": {},
   "outputs": [],
   "source": [
    "x : int = 6"
   ]
  },
  {
   "cell_type": "code",
   "execution_count": 15,
   "metadata": {},
   "outputs": [
    {
     "name": "stdout",
     "output_type": "stream",
     "text": [
      "13\n"
     ]
    }
   ],
   "source": [
    "# +=\n",
    "x += 7 # x=x+7\n",
    "print(x)"
   ]
  },
  {
   "cell_type": "code",
   "execution_count": 22,
   "metadata": {},
   "outputs": [
    {
     "name": "stdout",
     "output_type": "stream",
     "text": [
      "2\n"
     ]
    }
   ],
   "source": [
    "x: int = 8\n",
    "x //= 3 # x = x // 3\n",
    "print(x)\n"
   ]
  },
  {
   "cell_type": "markdown",
   "metadata": {},
   "source": [
    "# Comparison Operators"
   ]
  },
  {
   "cell_type": "code",
   "execution_count": 28,
   "metadata": {},
   "outputs": [
    {
     "name": "stdout",
     "output_type": "stream",
     "text": [
      "True\n",
      "False\n"
     ]
    }
   ],
   "source": [
    "x: int = 5\n",
    "y: int = 5 \n",
    "print( x == y) # true\n",
    "print(x != y)\n"
   ]
  },
  {
   "cell_type": "code",
   "execution_count": 32,
   "metadata": {},
   "outputs": [
    {
     "name": "stdout",
     "output_type": "stream",
     "text": [
      "True\n"
     ]
    }
   ],
   "source": [
    "x: int = 8\n",
    "y: int = 5 \n",
    "#print( x < y) # false\n",
    "print(x > y)  # true"
   ]
  },
  {
   "cell_type": "code",
   "execution_count": 38,
   "metadata": {},
   "outputs": [
    {
     "name": "stdout",
     "output_type": "stream",
     "text": [
      "True\n"
     ]
    }
   ],
   "source": [
    "x: int = 8\n",
    "y: int = 5 \n",
    "#print( x <= y) # true\n",
    "print(x >= y)  # true"
   ]
  },
  {
   "cell_type": "markdown",
   "metadata": {},
   "source": [
    "# Logical Operators"
   ]
  },
  {
   "cell_type": "code",
   "execution_count": 44,
   "metadata": {},
   "outputs": [
    {
     "name": "stdout",
     "output_type": "stream",
     "text": [
      "True\n",
      "True\n",
      "False\n"
     ]
    }
   ],
   "source": [
    "x : int = 5\n",
    "# and\n",
    "print(x < 6 and x > 4) \n",
    "# true and true\n",
    "# or\n",
    "print(x < 6 or x > 8)\n",
    "# true  or false\n",
    "#not\n",
    "print(not(x < 6 and x > 4))\n",
    "# true and true"
   ]
  },
  {
   "cell_type": "markdown",
   "metadata": {},
   "source": [
    "# Identity Operators"
   ]
  },
  {
   "cell_type": "code",
   "execution_count": 47,
   "metadata": {},
   "outputs": [
    {
     "name": "stdout",
     "output_type": "stream",
     "text": [
      "140736157076024\n",
      "140736157076024\n"
     ]
    }
   ],
   "source": [
    "x : int = 5\n",
    "y: int = 5\n",
    "print(id(x))\n",
    "print(id(y))\n"
   ]
  },
  {
   "cell_type": "code",
   "execution_count": 48,
   "metadata": {},
   "outputs": [
    {
     "data": {
      "text/plain": [
       "True"
      ]
     },
     "execution_count": 48,
     "metadata": {},
     "output_type": "execute_result"
    }
   ],
   "source": [
    "x is y"
   ]
  },
  {
   "cell_type": "code",
   "execution_count": 49,
   "metadata": {},
   "outputs": [
    {
     "data": {
      "text/plain": [
       "False"
      ]
     },
     "execution_count": 49,
     "metadata": {},
     "output_type": "execute_result"
    }
   ],
   "source": [
    "x is not y"
   ]
  },
  {
   "cell_type": "markdown",
   "metadata": {},
   "source": [
    "# Membership Operators\n",
    "# in\n",
    "# not in"
   ]
  },
  {
   "cell_type": "code",
   "execution_count": 6,
   "metadata": {},
   "outputs": [
    {
     "name": "stdout",
     "output_type": "stream",
     "text": [
      "Requirement already satisfied: pandas in c:\\programdata\\anaconda3\\envs\\python12\\lib\\site-packages (2.2.0)\n",
      "Requirement already satisfied: numpy<2,>=1.26.0 in c:\\programdata\\anaconda3\\envs\\python12\\lib\\site-packages (from pandas) (1.26.4)\n",
      "Requirement already satisfied: python-dateutil>=2.8.2 in c:\\programdata\\anaconda3\\envs\\python12\\lib\\site-packages (from pandas) (2.8.2)\n",
      "Requirement already satisfied: pytz>=2020.1 in c:\\programdata\\anaconda3\\envs\\python12\\lib\\site-packages (from pandas) (2024.1)\n",
      "Requirement already satisfied: tzdata>=2022.7 in c:\\programdata\\anaconda3\\envs\\python12\\lib\\site-packages (from pandas) (2023.4)\n",
      "Requirement already satisfied: six>=1.5 in c:\\programdata\\anaconda3\\envs\\python12\\lib\\site-packages (from python-dateutil>=2.8.2->pandas) (1.16.0)\n",
      "Note: you may need to restart the kernel to use updated packages.\n"
     ]
    }
   ],
   "source": [
    "%pip install pandas\n",
    "\n"
   ]
  },
  {
   "cell_type": "code",
   "execution_count": 8,
   "metadata": {},
   "outputs": [
    {
     "data": {
      "text/html": [
       "<div>\n",
       "<style scoped>\n",
       "    .dataframe tbody tr th:only-of-type {\n",
       "        vertical-align: middle;\n",
       "    }\n",
       "\n",
       "    .dataframe tbody tr th {\n",
       "        vertical-align: top;\n",
       "    }\n",
       "\n",
       "    .dataframe thead th {\n",
       "        text-align: right;\n",
       "    }\n",
       "</style>\n",
       "<table border=\"1\" class=\"dataframe\">\n",
       "  <thead>\n",
       "    <tr style=\"text-align: right;\">\n",
       "      <th></th>\n",
       "      <th>Operator</th>\n",
       "      <th>Name</th>\n",
       "      <th>Example</th>\n",
       "      <th>Try it</th>\n",
       "    </tr>\n",
       "  </thead>\n",
       "  <tbody>\n",
       "    <tr>\n",
       "      <th>0</th>\n",
       "      <td>+</td>\n",
       "      <td>Addition</td>\n",
       "      <td>x + y</td>\n",
       "      <td>Try it »</td>\n",
       "    </tr>\n",
       "    <tr>\n",
       "      <th>1</th>\n",
       "      <td>-</td>\n",
       "      <td>Subtraction</td>\n",
       "      <td>x - y</td>\n",
       "      <td>Try it »</td>\n",
       "    </tr>\n",
       "    <tr>\n",
       "      <th>2</th>\n",
       "      <td>*</td>\n",
       "      <td>Multiplication</td>\n",
       "      <td>x * y</td>\n",
       "      <td>Try it »</td>\n",
       "    </tr>\n",
       "    <tr>\n",
       "      <th>3</th>\n",
       "      <td>/</td>\n",
       "      <td>Division</td>\n",
       "      <td>x / y</td>\n",
       "      <td>Try it »</td>\n",
       "    </tr>\n",
       "    <tr>\n",
       "      <th>4</th>\n",
       "      <td>%</td>\n",
       "      <td>Modulus</td>\n",
       "      <td>x % y</td>\n",
       "      <td>Try it »</td>\n",
       "    </tr>\n",
       "    <tr>\n",
       "      <th>5</th>\n",
       "      <td>**</td>\n",
       "      <td>Exponentiation</td>\n",
       "      <td>x ** y</td>\n",
       "      <td>Try it »</td>\n",
       "    </tr>\n",
       "    <tr>\n",
       "      <th>6</th>\n",
       "      <td>//</td>\n",
       "      <td>Floor division</td>\n",
       "      <td>x // y</td>\n",
       "      <td>Try it »</td>\n",
       "    </tr>\n",
       "  </tbody>\n",
       "</table>\n",
       "</div>"
      ],
      "text/plain": [
       "  Operator            Name Example    Try it\n",
       "0        +        Addition   x + y  Try it »\n",
       "1        -     Subtraction   x - y  Try it »\n",
       "2        *  Multiplication   x * y  Try it »\n",
       "3        /        Division   x / y  Try it »\n",
       "4        %         Modulus   x % y  Try it »\n",
       "5       **  Exponentiation  x ** y  Try it »\n",
       "6       //  Floor division  x // y  Try it »"
      ]
     },
     "execution_count": 8,
     "metadata": {},
     "output_type": "execute_result"
    }
   ],
   "source": [
    "import pandas as pd\n",
    "table = pd.read_html(\"https://www.w3schools.com/python/python_operators.asp\")\n",
    "\n",
    "table[0]"
   ]
  },
  {
   "cell_type": "code",
   "execution_count": 9,
   "metadata": {},
   "outputs": [
    {
     "data": {
      "text/html": [
       "<div>\n",
       "<style scoped>\n",
       "    .dataframe tbody tr th:only-of-type {\n",
       "        vertical-align: middle;\n",
       "    }\n",
       "\n",
       "    .dataframe tbody tr th {\n",
       "        vertical-align: top;\n",
       "    }\n",
       "\n",
       "    .dataframe thead th {\n",
       "        text-align: right;\n",
       "    }\n",
       "</style>\n",
       "<table border=\"1\" class=\"dataframe\">\n",
       "  <thead>\n",
       "    <tr style=\"text-align: right;\">\n",
       "      <th></th>\n",
       "      <th>Operator</th>\n",
       "      <th>Example</th>\n",
       "      <th>Same As</th>\n",
       "      <th>Try it</th>\n",
       "    </tr>\n",
       "  </thead>\n",
       "  <tbody>\n",
       "    <tr>\n",
       "      <th>0</th>\n",
       "      <td>=</td>\n",
       "      <td>x = 5</td>\n",
       "      <td>x = 5</td>\n",
       "      <td>Try it »</td>\n",
       "    </tr>\n",
       "    <tr>\n",
       "      <th>1</th>\n",
       "      <td>+=</td>\n",
       "      <td>x += 3</td>\n",
       "      <td>x = x + 3</td>\n",
       "      <td>Try it »</td>\n",
       "    </tr>\n",
       "    <tr>\n",
       "      <th>2</th>\n",
       "      <td>-=</td>\n",
       "      <td>x -= 3</td>\n",
       "      <td>x = x - 3</td>\n",
       "      <td>Try it »</td>\n",
       "    </tr>\n",
       "    <tr>\n",
       "      <th>3</th>\n",
       "      <td>*=</td>\n",
       "      <td>x *= 3</td>\n",
       "      <td>x = x * 3</td>\n",
       "      <td>Try it »</td>\n",
       "    </tr>\n",
       "    <tr>\n",
       "      <th>4</th>\n",
       "      <td>/=</td>\n",
       "      <td>x /= 3</td>\n",
       "      <td>x = x / 3</td>\n",
       "      <td>Try it »</td>\n",
       "    </tr>\n",
       "    <tr>\n",
       "      <th>5</th>\n",
       "      <td>%=</td>\n",
       "      <td>x %= 3</td>\n",
       "      <td>x = x % 3</td>\n",
       "      <td>Try it »</td>\n",
       "    </tr>\n",
       "    <tr>\n",
       "      <th>6</th>\n",
       "      <td>//=</td>\n",
       "      <td>x //= 3</td>\n",
       "      <td>x = x // 3</td>\n",
       "      <td>Try it »</td>\n",
       "    </tr>\n",
       "    <tr>\n",
       "      <th>7</th>\n",
       "      <td>**=</td>\n",
       "      <td>x **= 3</td>\n",
       "      <td>x = x ** 3</td>\n",
       "      <td>Try it »</td>\n",
       "    </tr>\n",
       "    <tr>\n",
       "      <th>8</th>\n",
       "      <td>&amp;=</td>\n",
       "      <td>x &amp;= 3</td>\n",
       "      <td>x = x &amp; 3</td>\n",
       "      <td>Try it »</td>\n",
       "    </tr>\n",
       "    <tr>\n",
       "      <th>9</th>\n",
       "      <td>|=</td>\n",
       "      <td>x |= 3</td>\n",
       "      <td>x = x | 3</td>\n",
       "      <td>Try it »</td>\n",
       "    </tr>\n",
       "    <tr>\n",
       "      <th>10</th>\n",
       "      <td>^=</td>\n",
       "      <td>x ^= 3</td>\n",
       "      <td>x = x ^ 3</td>\n",
       "      <td>Try it »</td>\n",
       "    </tr>\n",
       "    <tr>\n",
       "      <th>11</th>\n",
       "      <td>&gt;&gt;=</td>\n",
       "      <td>x &gt;&gt;= 3</td>\n",
       "      <td>x = x &gt;&gt; 3</td>\n",
       "      <td>Try it »</td>\n",
       "    </tr>\n",
       "    <tr>\n",
       "      <th>12</th>\n",
       "      <td>&lt;&lt;=</td>\n",
       "      <td>x &lt;&lt;= 3</td>\n",
       "      <td>x = x &lt;&lt; 3</td>\n",
       "      <td>Try it »</td>\n",
       "    </tr>\n",
       "  </tbody>\n",
       "</table>\n",
       "</div>"
      ],
      "text/plain": [
       "   Operator  Example     Same As    Try it\n",
       "0         =    x = 5       x = 5  Try it »\n",
       "1        +=   x += 3   x = x + 3  Try it »\n",
       "2        -=   x -= 3   x = x - 3  Try it »\n",
       "3        *=   x *= 3   x = x * 3  Try it »\n",
       "4        /=   x /= 3   x = x / 3  Try it »\n",
       "5        %=   x %= 3   x = x % 3  Try it »\n",
       "6       //=  x //= 3  x = x // 3  Try it »\n",
       "7       **=  x **= 3  x = x ** 3  Try it »\n",
       "8        &=   x &= 3   x = x & 3  Try it »\n",
       "9        |=   x |= 3   x = x | 3  Try it »\n",
       "10       ^=   x ^= 3   x = x ^ 3  Try it »\n",
       "11      >>=  x >>= 3  x = x >> 3  Try it »\n",
       "12      <<=  x <<= 3  x = x << 3  Try it »"
      ]
     },
     "execution_count": 9,
     "metadata": {},
     "output_type": "execute_result"
    }
   ],
   "source": [
    "table[1]"
   ]
  },
  {
   "cell_type": "code",
   "execution_count": 10,
   "metadata": {},
   "outputs": [
    {
     "data": {
      "text/html": [
       "<div>\n",
       "<style scoped>\n",
       "    .dataframe tbody tr th:only-of-type {\n",
       "        vertical-align: middle;\n",
       "    }\n",
       "\n",
       "    .dataframe tbody tr th {\n",
       "        vertical-align: top;\n",
       "    }\n",
       "\n",
       "    .dataframe thead th {\n",
       "        text-align: right;\n",
       "    }\n",
       "</style>\n",
       "<table border=\"1\" class=\"dataframe\">\n",
       "  <thead>\n",
       "    <tr style=\"text-align: right;\">\n",
       "      <th></th>\n",
       "      <th>Operator</th>\n",
       "      <th>Name</th>\n",
       "      <th>Example</th>\n",
       "      <th>Try it</th>\n",
       "    </tr>\n",
       "  </thead>\n",
       "  <tbody>\n",
       "    <tr>\n",
       "      <th>0</th>\n",
       "      <td>==</td>\n",
       "      <td>Equal</td>\n",
       "      <td>x == y</td>\n",
       "      <td>Try it »</td>\n",
       "    </tr>\n",
       "    <tr>\n",
       "      <th>1</th>\n",
       "      <td>!=</td>\n",
       "      <td>Not equal</td>\n",
       "      <td>x != y</td>\n",
       "      <td>Try it »</td>\n",
       "    </tr>\n",
       "    <tr>\n",
       "      <th>2</th>\n",
       "      <td>&gt;</td>\n",
       "      <td>Greater than</td>\n",
       "      <td>x &gt; y</td>\n",
       "      <td>Try it »</td>\n",
       "    </tr>\n",
       "    <tr>\n",
       "      <th>3</th>\n",
       "      <td>&lt;</td>\n",
       "      <td>Less than</td>\n",
       "      <td>x &lt; y</td>\n",
       "      <td>Try it »</td>\n",
       "    </tr>\n",
       "    <tr>\n",
       "      <th>4</th>\n",
       "      <td>&gt;=</td>\n",
       "      <td>Greater than or equal to</td>\n",
       "      <td>x &gt;= y</td>\n",
       "      <td>Try it »</td>\n",
       "    </tr>\n",
       "    <tr>\n",
       "      <th>5</th>\n",
       "      <td>&lt;=</td>\n",
       "      <td>Less than or equal to</td>\n",
       "      <td>x &lt;= y</td>\n",
       "      <td>Try it »</td>\n",
       "    </tr>\n",
       "  </tbody>\n",
       "</table>\n",
       "</div>"
      ],
      "text/plain": [
       "  Operator                      Name Example    Try it\n",
       "0       ==                     Equal  x == y  Try it »\n",
       "1       !=                 Not equal  x != y  Try it »\n",
       "2        >              Greater than   x > y  Try it »\n",
       "3        <                 Less than   x < y  Try it »\n",
       "4       >=  Greater than or equal to  x >= y  Try it »\n",
       "5       <=     Less than or equal to  x <= y  Try it »"
      ]
     },
     "execution_count": 10,
     "metadata": {},
     "output_type": "execute_result"
    }
   ],
   "source": [
    "table[2]"
   ]
  },
  {
   "cell_type": "markdown",
   "metadata": {},
   "source": [
    "# List in Python\n"
   ]
  },
  {
   "cell_type": "code",
   "execution_count": 5,
   "metadata": {},
   "outputs": [
    {
     "name": "stdout",
     "output_type": "stream",
     "text": [
      "['Python', 'Networking', 'Database', 'Cloud Computing']\n",
      "Networking\n",
      "Database\n",
      "Cloud Computing\n"
     ]
    }
   ],
   "source": [
    "course1: str = \"Python\"\n",
    "course2: str = \"Networking\"\n",
    "course3: str = \"Database\"\n",
    "course4: str = \"Cloud Computing\"\n",
    "course5: str = \"Cyber Security\"\n",
    "#                           0        1                2           3\n",
    "courses : list[str] = [\"Python\", \"Networking\", \"Database\", \"Cloud Computing\"]\n",
    "#                        -4         -3             -2               -1\n",
    "print(courses)\n",
    "print(courses[1])\n",
    "print(courses[2])\n",
    "print(courses[-1])"
   ]
  },
  {
   "cell_type": "code",
   "execution_count": 11,
   "metadata": {},
   "outputs": [
    {
     "name": "stdout",
     "output_type": "stream",
     "text": [
      "['Python', 'Networking', 'Database', 'Cloud Computing', 123]\n",
      "<class 'list'>\n",
      "<class 'str'>\n",
      "<class 'int'>\n",
      "networking\n",
      "DATABASE\n"
     ]
    }
   ],
   "source": [
    "from typing import Any\n",
    "courses : list[any] = [\"Python\", \"Networking\", \"Database\", \"Cloud Computing\", 123]\n",
    "print(courses)\n",
    "print(type(courses))\n",
    "print(type(courses[2]))\n",
    "print(type(courses[-1]))\n",
    "print(courses[1].lower())\n",
    "print(courses[2].upper())"
   ]
  },
  {
   "cell_type": "code",
   "execution_count": 22,
   "metadata": {},
   "outputs": [
    {
     "name": "stdout",
     "output_type": "stream",
     "text": [
      "['Python', 'Networking', 'Database', 'Cloud Computing', 123]\n"
     ]
    }
   ],
   "source": [
    "#                          0         1              2           3              4\n",
    "courses : list[any] = [\"Python\", \"Networking\", \"Database\", \"Cloud Computing\", 123]\n",
    "print(courses[ : : ]) "
   ]
  },
  {
   "cell_type": "code",
   "execution_count": 2,
   "metadata": {},
   "outputs": [
    {
     "name": "stdout",
     "output_type": "stream",
     "text": [
      "['Python', 'Networking', 'Database', 'Cloud Computing', 123]\n",
      "Python\n",
      "['Cyber Security', 'Networking', 'Database', 'Cloud Computing', 123]\n",
      "['Cyber Security', 'Database', 'Cloud Computing', 123]\n"
     ]
    }
   ],
   "source": [
    "courses : list[any] = [\"Python\", \"Networking\", \"Database\", \"Cloud Computing\", 123]\n",
    "print(courses)\n",
    "print(courses[0])\n",
    "courses[0] = \"Cyber Security\"\n",
    "print(courses)\n",
    "del courses[1]\n",
    "print(courses)"
   ]
  },
  {
   "cell_type": "code",
   "execution_count": 29,
   "metadata": {},
   "outputs": [
    {
     "name": "stdout",
     "output_type": "stream",
     "text": [
      "['Python', 'Networking', 'Database', 'Cloud Computing', 123]\n",
      "123\n",
      "['Python', 'Networking', 'Database', 'Cloud Computing']\n"
     ]
    }
   ],
   "source": [
    "courses : list[any] = [\"Python\", \"Networking\", \"Database\", \"Cloud Computing\", 123]\n",
    "print(courses)\n",
    "x: str = courses.pop()\n",
    "print(x)\n",
    "print(courses)"
   ]
  },
  {
   "cell_type": "code",
   "execution_count": 32,
   "metadata": {},
   "outputs": [
    {
     "name": "stdout",
     "output_type": "stream",
     "text": [
      "['Python', 'Networking', 'Database', 'Cloud Computing']\n",
      "['Python', 'Networking', 'Database', 'Cloud Computing', 'Cyber Security']\n",
      "['Python', 'Networking', 'Math', 'Database', 'Cloud Computing', 'Cyber Security']\n"
     ]
    }
   ],
   "source": [
    "courses : list[any] = [\"Python\", \"Networking\", \"Database\", \"Cloud Computing\"]\n",
    "print(courses)\n",
    "courses.append(\"Cyber Security\")\n",
    "print(courses)\n",
    "courses.insert(2,\"Math\")\n",
    "print(courses)"
   ]
  },
  {
   "cell_type": "code",
   "execution_count": 33,
   "metadata": {},
   "outputs": [
    {
     "data": {
      "text/plain": [
       "['append',\n",
       " 'clear',\n",
       " 'copy',\n",
       " 'count',\n",
       " 'extend',\n",
       " 'index',\n",
       " 'insert',\n",
       " 'pop',\n",
       " 'remove',\n",
       " 'reverse',\n",
       " 'sort']"
      ]
     },
     "execution_count": 33,
     "metadata": {},
     "output_type": "execute_result"
    }
   ],
   "source": [
    "[i for i in dir(list) if \"__\" not in i]"
   ]
  },
  {
   "cell_type": "code",
   "execution_count": 6,
   "metadata": {},
   "outputs": [
    {
     "name": "stdout",
     "output_type": "stream",
     "text": [
      "['Python', 'Networking', 'Database', 'Cloud Computing']\n"
     ]
    },
    {
     "ename": "NameError",
     "evalue": "name 'courses' is not defined",
     "output_type": "error",
     "traceback": [
      "\u001b[1;31m---------------------------------------------------------------------------\u001b[0m",
      "\u001b[1;31mNameError\u001b[0m                                 Traceback (most recent call last)",
      "Cell \u001b[1;32mIn[6], line 4\u001b[0m\n\u001b[0;32m      2\u001b[0m \u001b[39mprint\u001b[39m(courses)\n\u001b[0;32m      3\u001b[0m \u001b[39mdel\u001b[39;00m courses\n\u001b[1;32m----> 4\u001b[0m \u001b[39mprint\u001b[39m(courses)\n",
      "\u001b[1;31mNameError\u001b[0m: name 'courses' is not defined"
     ]
    }
   ],
   "source": [
    "courses : list[any] = [\"Python\", \"Networking\", \"Database\", \"Cloud Computing\"]\n",
    "print(courses)\n",
    "del courses\n",
    "print(courses)\n",
    "\n"
   ]
  },
  {
   "cell_type": "code",
   "execution_count": 8,
   "metadata": {},
   "outputs": [
    {
     "name": "stdout",
     "output_type": "stream",
     "text": [
      "['Python', 'Networking', 'Database', 'Cloud Computing']\n",
      "[]\n"
     ]
    }
   ],
   "source": [
    "courses : list[any] = [\"Python\", \"Networking\", \"Database\", \"Cloud Computing\"]\n",
    "print(courses)\n",
    "courses.clear()\n",
    "print(courses)"
   ]
  },
  {
   "cell_type": "code",
   "execution_count": 16,
   "metadata": {},
   "outputs": [
    {
     "name": "stdout",
     "output_type": "stream",
     "text": [
      "2\n",
      "1\n"
     ]
    }
   ],
   "source": [
    "courses : list[any] = [\"Python\", \"Networking\", \"Database\", \"Cloud Computing\",\"Cloud Computing\"]\n",
    "print(courses.count(\"Cloud Computing\"))\n",
    "print(courses.count(\"Database\"))"
   ]
  },
  {
   "cell_type": "code",
   "execution_count": 20,
   "metadata": {},
   "outputs": [
    {
     "name": "stdout",
     "output_type": "stream",
     "text": [
      "['Python', 'Networking', 'Database', 'Cloud Computing', 'BSCS', 'MSCS']\n"
     ]
    }
   ],
   "source": [
    "courses : list[any] = [\"Python\", \"Networking\", \"Database\",\"Cloud Computing\"]\n",
    "program: list[str] = [\"BSCS\", \"MSCS\"]\n",
    "courses.extend(program)\n",
    "print(courses)\n"
   ]
  },
  {
   "cell_type": "code",
   "execution_count": 1,
   "metadata": {},
   "outputs": [
    {
     "name": "stdout",
     "output_type": "stream",
     "text": [
      "['Python', 'Networking', 'Database', 'Cloud Computing']\n"
     ]
    }
   ],
   "source": [
    "courses : list[any] = [\"Python\", \"Networking\", \"Database\",\"Cloud Computing\"]\n",
    "for course in courses:\n",
    "    print(course)"
   ]
  },
  {
   "cell_type": "code",
   "execution_count": 8,
   "metadata": {},
   "outputs": [
    {
     "name": "stdout",
     "output_type": "stream",
     "text": [
      "Networking\n",
      "Database\n",
      "welcome to python course\n"
     ]
    }
   ],
   "source": [
    "courses : list[any] = [\"Python\", \"Networking\", \"Database\",\"Cloud Computing\"]\n",
    "for course in courses[1:3]: \n",
    "    print(course)\n",
    "print(\"welcome to python course\")\n",
    "\n",
    "    "
   ]
  },
  {
   "cell_type": "markdown",
   "metadata": {},
   "source": [
    "# Rang Function"
   ]
  },
  {
   "cell_type": "code",
   "execution_count": 24,
   "metadata": {},
   "outputs": [
    {
     "name": "stdout",
     "output_type": "stream",
     "text": [
      "3 x 1 = 3\n",
      "3 x 2 = 6\n",
      "3 x 3 = 9\n",
      "3 x 4 = 12\n",
      "3 x 5 = 15\n",
      "3 x 6 = 18\n",
      "3 x 7 = 21\n",
      "3 x 8 = 24\n",
      "3 x 9 = 27\n",
      "3 x 10 = 30\n"
     ]
    }
   ],
   "source": [
    "for table in range(1,11):\n",
    "    print(f\"{3} x {table} = {table*3}\")"
   ]
  },
  {
   "cell_type": "code",
   "execution_count": 25,
   "metadata": {},
   "outputs": [
    {
     "name": "stdout",
     "output_type": "stream",
     "text": [
      "0 Python\n",
      "1 Networking\n",
      "2 Database\n"
     ]
    }
   ],
   "source": [
    "courses : list[any] = [\"Python\", \"Networking\", \"Database\"]\n",
    "for index, course in enumerate(courses):\n",
    "    print(index,course) "
   ]
  },
  {
   "cell_type": "markdown",
   "metadata": {},
   "source": [
    "# List comprehensive"
   ]
  },
  {
   "cell_type": "code",
   "execution_count": 31,
   "metadata": {},
   "outputs": [
    {
     "data": {
      "text/plain": [
       "[1, 4, 9, 16]"
      ]
     },
     "execution_count": 31,
     "metadata": {},
     "output_type": "execute_result"
    }
   ],
   "source": [
    "[square**2 for square in range(1,5)]\n",
    "    "
   ]
  },
  {
   "cell_type": "markdown",
   "metadata": {},
   "source": [
    "# Tuple"
   ]
  },
  {
   "cell_type": "code",
   "execution_count": 7,
   "metadata": {},
   "outputs": [
    {
     "name": "stdout",
     "output_type": "stream",
     "text": [
      "('b', 'c')\n"
     ]
    },
    {
     "ename": "AttributeError",
     "evalue": "'tuple' object has no attribute 'append'",
     "output_type": "error",
     "traceback": [
      "\u001b[1;31m---------------------------------------------------------------------------\u001b[0m",
      "\u001b[1;31mAttributeError\u001b[0m                            Traceback (most recent call last)",
      "Cell \u001b[1;32mIn[7], line 3\u001b[0m\n\u001b[0;32m      1\u001b[0m course1: \u001b[39mtuple\u001b[39m[\u001b[39mstr\u001b[39m] \u001b[39m=\u001b[39m (\u001b[39m\"\u001b[39m\u001b[39ma\u001b[39m\u001b[39m\"\u001b[39m, \u001b[39m\"\u001b[39m\u001b[39mb\u001b[39m\u001b[39m\"\u001b[39m,\u001b[39m\"\u001b[39m\u001b[39mc\u001b[39m\u001b[39m\"\u001b[39m)\n\u001b[0;32m      2\u001b[0m \u001b[39mprint\u001b[39m(course1[\u001b[39m1\u001b[39m:\u001b[39m3\u001b[39m])\n\u001b[1;32m----> 3\u001b[0m course1\u001b[39m.\u001b[39;49mappend\u001b[39m=\u001b[39m(\u001b[39m\"\u001b[39m\u001b[39mxyz\u001b[39m\u001b[39m\"\u001b[39m)\n",
      "\u001b[1;31mAttributeError\u001b[0m: 'tuple' object has no attribute 'append'"
     ]
    }
   ],
   "source": [
    "course1: tuple[str] = (\"a\", \"b\",\"c\")\n",
    "print(course1[1:3])\n",
    "course1.append=(\"xyz\")"
   ]
  },
  {
   "cell_type": "code",
   "execution_count": null,
   "metadata": {},
   "outputs": [],
   "source": [
    "\n",
    "\n",
    "\n",
    "\n",
    "\n",
    "\n"
   ]
  },
  {
   "cell_type": "markdown",
   "metadata": {},
   "source": [
    "# if-else-elife"
   ]
  },
  {
   "cell_type": "code",
   "execution_count": 45,
   "metadata": {},
   "outputs": [
    {
     "name": "stdout",
     "output_type": "stream",
     "text": [
      "welcome to python course\n"
     ]
    }
   ],
   "source": [
    "\n",
    "if True:\n",
    "    print(\"welcome to python course\")\n",
    "else:\n",
    "    print(\"join python course\")\n"
   ]
  },
  {
   "cell_type": "code",
   "execution_count": 46,
   "metadata": {},
   "outputs": [
    {
     "name": "stdout",
     "output_type": "stream",
     "text": [
      "welcome to python course\n"
     ]
    }
   ],
   "source": [
    "print(\"welcome to python course\") if True else print(\"join python course\")"
   ]
  },
  {
   "cell_type": "code",
   "execution_count": 60,
   "metadata": {},
   "outputs": [
    {
     "name": "stdout",
     "output_type": "stream",
     "text": [
      "welcome\n"
     ]
    }
   ],
   "source": [
    "if False:\n",
    "    print(\"true\")\n",
    "elif False:\n",
    "    print(\"false\")\n",
    "elif True:\n",
    "    print(\"welcome\")\n",
    "elif False:\n",
    "    print(\"false\")\n",
    "elif False:\n",
    "    print(\"false\")\n",
    "else:\n",
    "    print(\"else\")"
   ]
  },
  {
   "cell_type": "markdown",
   "metadata": {},
   "source": [
    "# Student Grading System"
   ]
  },
  {
   "cell_type": "code",
   "execution_count": 59,
   "metadata": {},
   "outputs": [
    {
     "name": "stdout",
     "output_type": "stream",
     "text": [
      "Your Percentage is 80 and your Grade is B\n"
     ]
    }
   ],
   "source": [
    "per: int = int(input(\"Enter your percentage\"))\n",
    "\n",
    "if per >= 90:\n",
    "    result = \"A\"\n",
    "elif per >= 70:\n",
    "    result = \"B\"\n",
    "elif per >= 60:\n",
    "    result = \"C\"\n",
    "elif per >= 50:\n",
    "    result = \"D\"\n",
    "else:\n",
    "    result = \"Fail\"\n",
    "\n",
    "print(f\"Your Percentage is {per} and your Grade is {result}\")"
   ]
  },
  {
   "cell_type": "markdown",
   "metadata": {},
   "source": [
    "# Dictationary"
   ]
  },
  {
   "cell_type": "code",
   "execution_count": 4,
   "metadata": {},
   "outputs": [],
   "source": [
    "fruits: list[str] = [\"apple\",\"mango\", \"banana\",\"orange\"]"
   ]
  },
  {
   "cell_type": "code",
   "execution_count": 3,
   "metadata": {},
   "outputs": [],
   "source": [
    "from typing import Union\n",
    "Key = Union[str,int]\n",
    "Value = Union[str,int,dict,tuple,list]"
   ]
  },
  {
   "cell_type": "code",
   "execution_count": 5,
   "metadata": {},
   "outputs": [
    {
     "name": "stdout",
     "output_type": "stream",
     "text": [
      "{'fname': 'Rogers', 'class': 'BSCS', 'programe': 'computer science', 'student_no': 987, 23: 765, 87: 'values', 1: ['apple', 'mango', 'orange']}\n"
     ]
    }
   ],
   "source": [
    "from typing import Dict\n",
    "student: Dict[Key,Value] = {\"fname\":\"Rogers\",\n",
    "                            \"class\":\"BSCS\",\n",
    "                            \"programe\":\"computer science\",\n",
    "                            \"student_no\":987,\n",
    "                            23:765,\n",
    "                            87:\"values\",\n",
    "                            1:[\"apple\",\"mango\",\"orange\"]}\n",
    "\n",
    "print(student)"
   ]
  },
  {
   "cell_type": "code",
   "execution_count": 6,
   "metadata": {},
   "outputs": [
    {
     "name": "stdout",
     "output_type": "stream",
     "text": [
      "{'fname': 'Rogers', 'class': 'BSCS', 'programe': 'computer science', 'student_no': 987, 23: 765, 87: 'values', 1: ['apple', 'mango', 'orange'], 'tuple': ('abc', 876)}\n",
      "Rogers\n",
      "765\n",
      "['apple', 'mango', 'orange']\n",
      "('abc', 876)\n"
     ]
    }
   ],
   "source": [
    "from typing import Dict\n",
    "student: Dict[Key,Value] = {\"fname\":\"Rogers\",\n",
    "                            \"class\":\"BSCS\",\n",
    "                            \"programe\":\"computer science\",\n",
    "                            \"student_no\":987,\n",
    "                            23:765,\n",
    "                            87:\"values\",\n",
    "                            1:[\"apple\",\"mango\",\"orange\"],\n",
    "                            \"tuple\":(\"abc\",876)}\n",
    "\n",
    "print(student)\n",
    "print(student[\"fname\"])\n",
    "print(student[23])\n",
    "print(student[1])\n",
    "print(student[\"tuple\"])\n"
   ]
  },
  {
   "cell_type": "code",
   "execution_count": 17,
   "metadata": {},
   "outputs": [
    {
     "name": "stdout",
     "output_type": "stream",
     "text": [
      "{'fname': 'Rogers', 'class': 'BSCS', 'programe': 'computer science', 'student_no': 987, 23: 765, 87: 'values', 1: ['apple', 'mango', 'orange'], 'tuple': ('abc', 876), 'fruit': 'apple'}\n",
      "{'fname': 'saim', 'class': 'BSCS', 'programe': 'computer science', 'student_no': 987, 23: 765, 87: 'values', 1: ['apple', 'mango', 'orange'], 'tuple': ('abc', 876), 'fruit': 'apple'}\n"
     ]
    }
   ],
   "source": [
    "student: Dict[Key,Value] = {\"fname\":\"Rogers\",\n",
    "                            \"class\":\"BSCS\",\n",
    "                            \"programe\":\"computer science\",\n",
    "                            \"student_no\":987,\n",
    "                            23:765,\n",
    "                            87:\"values\",\n",
    "                            1:[\"apple\",\"mango\",\"orange\"],\n",
    "                            \"tuple\":(\"abc\",876)}\n",
    "student[\"fruit\"] =\"apple\"\n",
    "print(student)\n",
    "student[\"fname\"] = \"saim\"\n",
    "print(student)"
   ]
  },
  {
   "cell_type": "code",
   "execution_count": 18,
   "metadata": {},
   "outputs": [
    {
     "data": {
      "text/plain": [
       "['clear',\n",
       " 'copy',\n",
       " 'fromkeys',\n",
       " 'get',\n",
       " 'items',\n",
       " 'keys',\n",
       " 'pop',\n",
       " 'popitem',\n",
       " 'setdefault',\n",
       " 'update',\n",
       " 'values']"
      ]
     },
     "execution_count": 18,
     "metadata": {},
     "output_type": "execute_result"
    }
   ],
   "source": [
    "[i for i in dir(student) if \"__\" not in i]"
   ]
  },
  {
   "cell_type": "code",
   "execution_count": 10,
   "metadata": {},
   "outputs": [
    {
     "name": "stdout",
     "output_type": "stream",
     "text": [
      "NA\n",
      "Rogers\n",
      "dict_keys(['fname', 'class', 'programe', 'student_no'])\n",
      "dict_values(['Rogers', 'BSCS', 'computer science', 987])\n",
      "dict_items([('fname', 'Rogers'), ('class', 'BSCS'), ('programe', 'computer science'), ('student_no', 987)])\n",
      "fname\n",
      "class\n",
      "programe\n",
      "student_no\n",
      "Rogers\n",
      "BSCS\n",
      "computer science\n",
      "987\n"
     ]
    }
   ],
   "source": [
    "student: Dict[Key,Value] = {\"fname\":\"Rogers\",\n",
    "                            \"class\":\"BSCS\",\n",
    "                            \"programe\":\"computer science\",\n",
    "                            \"student_no\":987}\n",
    "\n",
    "print(student.get(\"lastname\",\"NA\"))\n",
    "print(student.get(\"fname\",\"NA\"))\n",
    "print(student.keys())\n",
    "print(student.values())\n",
    "print(student.items())\n",
    "for k in student.keys():\n",
    "    print(k)\n",
    "for v in student.values():\n",
    "    print(v)"
   ]
  },
  {
   "cell_type": "code",
   "execution_count": 13,
   "metadata": {},
   "outputs": [
    {
     "data": {
      "text/plain": [
       "{'Rogers': 'fname',\n",
       " 'BSCS': 'class',\n",
       " 'computer science': 'programe',\n",
       " 987: 'student_no'}"
      ]
     },
     "execution_count": 13,
     "metadata": {},
     "output_type": "execute_result"
    }
   ],
   "source": [
    "{v:k for k,v in student.items()}\n",
    "    "
   ]
  },
  {
   "cell_type": "code",
   "execution_count": 6,
   "metadata": {},
   "outputs": [
    {
     "name": "stdout",
     "output_type": "stream",
     "text": [
      "{'fname': 'Rogers', 'class': 'BSCS', 'programe': 'computer science', 'student_no': 987}\n",
      "Rogers\n",
      "{'class': 'BSCS', 'programe': 'computer science', 'student_no': 987}\n",
      "('student_no', 987)\n",
      "{'class': 'BSCS', 'programe': 'computer science'}\n",
      "{'class': 'BSCS', 'programe': 'computer science', 'weather': 'cloudy'}\n",
      "{'class': 'BSCS', 'programe': 'computer science', 'weather': 'cloudy'}\n"
     ]
    }
   ],
   "source": [
    "student: Dict[Key,Value] = {\"fname\":\"Rogers\",\n",
    "                            \"class\":\"BSCS\",\n",
    "                            \"programe\":\"computer science\",\n",
    "                            \"student_no\":987}\n",
    "#student.clear()\n",
    "print(student)\n",
    "x: str = student.pop(\"fname\")\n",
    "print(x)\n",
    "print(student)\n",
    "a: str = student.popitem()\n",
    "print(a)\n",
    "print(student)\n",
    "student.setdefault(\"weather\",\"cloudy\")\n",
    "print(student)\n",
    "student.setdefault(\"class\",\"MSCS\")\n",
    "print(student)"
   ]
  },
  {
   "cell_type": "markdown",
   "metadata": {},
   "source": [
    "# Loops\n",
    "* for loop\n",
    "* While loop\n",
    "* Input"
   ]
  },
  {
   "cell_type": "code",
   "execution_count": 10,
   "metadata": {},
   "outputs": [
    {
     "name": "stdout",
     "output_type": "stream",
     "text": [
      "['row1', 'row2', 'row3']\n",
      "row1\n",
      "row2\n",
      "row3\n"
     ]
    }
   ],
   "source": [
    "rows : list[str] = [\"row1\",\"row2\", \"row3\"]\n",
    "print(rows)\n",
    "for row in rows:\n",
    "    print(row)"
   ]
  },
  {
   "cell_type": "code",
   "execution_count": 13,
   "metadata": {},
   "outputs": [
    {
     "name": "stdout",
     "output_type": "stream",
     "text": [
      "('row1', 'row2', 'row3')\n",
      "row1\n",
      "row2\n",
      "row3\n"
     ]
    }
   ],
   "source": [
    "rows : tuple[str] = (\"row1\",\"row2\", \"row3\")\n",
    "print(rows)\n",
    "for row in rows:\n",
    "    print(row)"
   ]
  },
  {
   "cell_type": "code",
   "execution_count": 15,
   "metadata": {},
   "outputs": [
    {
     "name": "stdout",
     "output_type": "stream",
     "text": [
      "Python\n",
      "P\n",
      "y\n",
      "t\n",
      "h\n",
      "o\n",
      "n\n"
     ]
    }
   ],
   "source": [
    "txt: str = \"Python\"\n",
    "print(txt)\n",
    "for i in txt:\n",
    "    print(i)"
   ]
  },
  {
   "cell_type": "code",
   "execution_count": 27,
   "metadata": {},
   "outputs": [
    {
     "name": "stdout",
     "output_type": "stream",
     "text": [
      "{'row1': 'one', 'row2': 'two', 'row3': 'three'}\n",
      "key is row1 and value is one\n",
      "key is row2 and value is two\n",
      "key is row3 and value is three\n"
     ]
    }
   ],
   "source": [
    "rows : Dict[str,str] = {\"row1\":\"one\",\"row2\":\"two\",\"row3\":\"three\"}\n",
    "print(rows)\n",
    "for row in rows:\n",
    "    print(f\"key is {row} and value is {rows[row]}\")"
   ]
  },
  {
   "cell_type": "code",
   "execution_count": 29,
   "metadata": {},
   "outputs": [
    {
     "name": "stdout",
     "output_type": "stream",
     "text": [
      "your favourite fruit is apple\n",
      "<class 'str'>\n"
     ]
    }
   ],
   "source": [
    "fruit: str = input(\"enter your favourite fruit name\")\n",
    "print(f\"your favourite fruit is {fruit}\")\n",
    "print(type(fruit))"
   ]
  },
  {
   "cell_type": "markdown",
   "metadata": {},
   "source": [
    "# While Loop"
   ]
  },
  {
   "cell_type": "code",
   "execution_count": null,
   "metadata": {},
   "outputs": [],
   "source": [
    "\n",
    "'''\n",
    "while logic:\n",
    "    loop Body\n",
    "'''\n"
   ]
  },
  {
   "cell_type": "code",
   "execution_count": 31,
   "metadata": {},
   "outputs": [
    {
     "name": "stdout",
     "output_type": "stream",
     "text": [
      "continue\n",
      "continue\n",
      "continue\n",
      "continue\n",
      "continue\n",
      "continue\n",
      "continue\n",
      "continue\n"
     ]
    }
   ],
   "source": [
    "course: bool = True\n",
    "semester = 0\n",
    "while course:\n",
    "    print(\"continue\")\n",
    "    semester += 1\n",
    "\n",
    "    if semester == 8:\n",
    "        break\n"
   ]
  },
  {
   "cell_type": "code",
   "execution_count": 3,
   "metadata": {},
   "outputs": [
    {
     "name": "stdout",
     "output_type": "stream",
     "text": [
      "index number is 0 and value is row1\n",
      "index number is 1 and value is row2\n",
      "index number is 2 and value is row3\n"
     ]
    }
   ],
   "source": [
    "rows : list[str] = [\"row1\",\"row2\",\"row3\"]\n",
    "num : int = 0\n",
    "while num < len(rows):\n",
    "    print(f\"index number is {num} and value is {rows[num]}\")\n",
    "    num += 1"
   ]
  },
  {
   "cell_type": "markdown",
   "metadata": {},
   "source": [
    "* Break\n",
    "* continue\n",
    "* pass"
   ]
  },
  {
   "cell_type": "code",
   "execution_count": 1,
   "metadata": {},
   "outputs": [],
   "source": [
    "for i in range(1,10):\n",
    "    pass"
   ]
  },
  {
   "cell_type": "markdown",
   "metadata": {},
   "source": [
    "# Funtions"
   ]
  },
  {
   "cell_type": "markdown",
   "metadata": {},
   "source": [
    "* Function Declaration\n",
    "* Function Body\n",
    "* Function calling"
   ]
  },
  {
   "cell_type": "code",
   "execution_count": null,
   "metadata": {},
   "outputs": [],
   "source": [
    "'''\n",
    "def course(param1:type, param2:type)->return type:\n",
    "    function_body\n",
    "\n",
    "course(3,4)\n",
    "'''"
   ]
  },
  {
   "cell_type": "markdown",
   "metadata": {},
   "source": [
    "* print\n",
    "* len\n",
    "* dir\n",
    "* id\n",
    "* etc.."
   ]
  },
  {
   "cell_type": "code",
   "execution_count": 3,
   "metadata": {},
   "outputs": [
    {
     "name": "stdout",
     "output_type": "stream",
     "text": [
      "python\n"
     ]
    },
    {
     "data": {
      "text/plain": [
       "None"
      ]
     },
     "metadata": {},
     "output_type": "display_data"
    }
   ],
   "source": [
    "course = print('python')\n",
    "display(course)"
   ]
  },
  {
   "cell_type": "code",
   "execution_count": 4,
   "metadata": {},
   "outputs": [
    {
     "data": {
      "text/plain": [
       "6"
      ]
     },
     "metadata": {},
     "output_type": "display_data"
    }
   ],
   "source": [
    "x: int = len(\"python\")\n",
    "display(x)"
   ]
  },
  {
   "cell_type": "code",
   "execution_count": 9,
   "metadata": {},
   "outputs": [
    {
     "name": "stdout",
     "output_type": "stream",
     "text": [
      "python\n",
      "python\n",
      "python\n",
      "python\n"
     ]
    }
   ],
   "source": [
    "def course()->None:\n",
    "    print(\"python\")\n",
    "course()\n",
    "course()\n",
    "course()\n",
    "course()"
   ]
  },
  {
   "cell_type": "code",
   "execution_count": 17,
   "metadata": {},
   "outputs": [
    {
     "data": {
      "text/plain": [
       "12"
      ]
     },
     "execution_count": 17,
     "metadata": {},
     "output_type": "execute_result"
    }
   ],
   "source": [
    "# Required Parameter Function\n",
    "def add_num(num1: int, num2: int = 0)->int:\n",
    "    return num1 + num2\n",
    "add_num(5,7)"
   ]
  },
  {
   "cell_type": "code",
   "execution_count": 25,
   "metadata": {},
   "outputs": [
    {
     "name": "stdout",
     "output_type": "stream",
     "text": [
      "(2, 5, 6, 4, 8) <class 'tuple'>\n"
     ]
    }
   ],
   "source": [
    "def xyz(*abc):\n",
    "    print(abc, type(abc))\n",
    "xyz(2,5,6,4,8)"
   ]
  },
  {
   "cell_type": "code",
   "execution_count": 33,
   "metadata": {},
   "outputs": [
    {
     "name": "stdout",
     "output_type": "stream",
     "text": [
      "8 9 (5, 6, 5) {'a': '2', 'b': '7', 'c': '6'}\n"
     ]
    }
   ],
   "source": [
    "def num(x,y,*z,**num1):\n",
    "    print(x,y,z,num1)\n",
    "num(8,9,5,6,5,a='2',b='7', c='6')"
   ]
  },
  {
   "cell_type": "markdown",
   "metadata": {},
   "source": [
    "# Lambda Function\n"
   ]
  },
  {
   "cell_type": "code",
   "execution_count": 1,
   "metadata": {},
   "outputs": [
    {
     "data": {
      "text/plain": [
       "13"
      ]
     },
     "execution_count": 1,
     "metadata": {},
     "output_type": "execute_result"
    }
   ],
   "source": [
    "x=lambda param1,param2: param1 + param2\n",
    "x(5,8)"
   ]
  },
  {
   "cell_type": "markdown",
   "metadata": {},
   "source": [
    "# OOP (Object Oriented Porgramming)\n",
    "* classes\n",
    "* Methods\n",
    "* Attributes"
   ]
  },
  {
   "cell_type": "code",
   "execution_count": 13,
   "metadata": {},
   "outputs": [
    {
     "name": "stdout",
     "output_type": "stream",
     "text": [
      "Model: Toyota\n",
      "Color: Red\n",
      "Year: 2022\n",
      "Model: Honda\n",
      "Color: Blue\n",
      "Year: 2021\n",
      "2022 Toyota is driving\n",
      "2021 Honda is driving\n"
     ]
    }
   ],
   "source": [
    "class Car:\n",
    "    def __init__(self, model, color, year):\n",
    "        self.model = model\n",
    "        self.color = color\n",
    "        self.year = year\n",
    "    def display_info(self):\n",
    "        print(f\"Model: {self.model}\")\n",
    "        print(f\"Color: {self.color}\")\n",
    "        print(f\"Year: {self.year}\")\n",
    "    def drive(self):\n",
    "        print(f\"{self.year} {self.model} is driving\")\n",
    "car1 = Car(\"Toyota\", \"Red\", 2022)\n",
    "car2 = Car(\"Honda\", \"Blue\", 2021)\n",
    "# print(car1.model)\n",
    "# print(car2.model)\n",
    "\n",
    "car1.display_info()\n",
    "car2.display_info()\n",
    "\n",
    "car1.drive()\n",
    "car2.drive()\n",
    "\n"
   ]
  },
  {
   "cell_type": "code",
   "execution_count": 1,
   "metadata": {},
   "outputs": [
    {
     "name": "stdout",
     "output_type": "stream",
     "text": [
      "John\n",
      "B\n",
      "Name: John\n",
      "Age: 20\n",
      "Grade: A\n",
      "Name: Jane\n",
      "Age: 18\n",
      "Grade: B\n"
     ]
    }
   ],
   "source": [
    "class Student:\n",
    "    def __init__(self, name, age, grade):\n",
    "        self.name = name\n",
    "        self.age = age\n",
    "        self.grade = grade\n",
    "    def display_info(self):\n",
    "        print(f\"Name: {self.name}\")\n",
    "        print(f\"Age: {self.age}\")\n",
    "        print(f\"Grade: {self.grade}\")\n",
    "\n",
    "student1 = Student(\"John\", 20, \"A\")\n",
    "student2 = Student(\"Jane\", 18, \"B\")\n",
    "print(student1.name)\n",
    "print(student2.grade)\n",
    "student1.display_info()\n",
    "student2.display_info()\n",
    "        "
   ]
  },
  {
   "cell_type": "markdown",
   "metadata": {},
   "source": [
    "# Inheritance"
   ]
  },
  {
   "cell_type": "code",
   "execution_count": 5,
   "metadata": {},
   "outputs": [
    {
     "name": "stdout",
     "output_type": "stream",
     "text": [
      "Woof\n",
      "Meow\n",
      "dog\n",
      "cat\n"
     ]
    }
   ],
   "source": [
    "class Animal:\n",
    "    def __init__(self, name):\n",
    "        self.name = name\n",
    "    def sound(self):\n",
    "        pass\n",
    "class Dog(Animal):\n",
    "    def sound(self):\n",
    "        return \"Woof\"\n",
    "class Cat(Animal):\n",
    "    def sound(self):\n",
    "        return \"Meow\"\n",
    "\n",
    "dog = Dog(\"dog\")\n",
    "cat = Cat(\"cat\")\n",
    "\n",
    "print(dog.sound())\n",
    "print(cat.sound())\n",
    "\n",
    "print(dog.name)\n",
    "print(cat.name)"
   ]
  },
  {
   "cell_type": "code",
   "execution_count": 11,
   "metadata": {},
   "outputs": [
    {
     "name": "stdout",
     "output_type": "stream",
     "text": [
      "The shap's color is red\n",
      "The shap's color is blue\n",
      "100\n",
      "28.259999999999998\n"
     ]
    }
   ],
   "source": [
    "class Shape:\n",
    "    def __init__(self, color):\n",
    "        self.color = color\n",
    "\n",
    "    def display_color(self):\n",
    "        print(f\"The shap's color is {self.color}\")\n",
    "class Rectangle(Shape):\n",
    "    def __init__(self, length, width, color):\n",
    "        super().__init__(color)\n",
    "        self.length = length\n",
    "        self.width = width\n",
    "    def area(self):\n",
    "        return self.length * self.width\n",
    "class Circle(Shape):\n",
    "    def __init__(self, radius, color):\n",
    "        super().__init__(color)\n",
    "        self.radius = radius\n",
    "    def area(self):\n",
    "        return 3.14 * self.radius * self.radius\n",
    "\n",
    "rect = Rectangle(10, 10, \"red\")\n",
    "circ = Circle(3, \"blue\")\n",
    "\n",
    "rect.display_color()\n",
    "\n",
    "circ.display_color()\n",
    "\n",
    "print(rect.area())\n",
    "print(circ.area())\n"
   ]
  },
  {
   "cell_type": "markdown",
   "metadata": {},
   "source": [
    "# Multiple Inheritance"
   ]
  },
  {
   "cell_type": "code",
   "execution_count": 14,
   "metadata": {},
   "outputs": [
    {
     "name": "stdout",
     "output_type": "stream",
     "text": [
      "Method of class Parent1\n",
      "Method of class Parent2\n",
      "Method of class Child\n"
     ]
    }
   ],
   "source": [
    "class Parent1:\n",
    "    def method_Parent1(self):\n",
    "        print(\"Method of class Parent1\")\n",
    "class Parent2:  \n",
    "    def method_Parent2(self):\n",
    "        print(\"Method of class Parent2\")\n",
    "\n",
    "class Child(Parent1,Parent2):\n",
    "    def method_Child(self):\n",
    "        print(\"Method of class Child\")\n",
    "\n",
    "obj = Child()\n",
    "obj.method_Parent1()\n",
    "obj.method_Parent2()\n",
    "obj.method_Child()"
   ]
  },
  {
   "cell_type": "markdown",
   "metadata": {},
   "source": [
    "# Polymorphism\n",
    "* Overloading\n",
    "* Overriding\n"
   ]
  },
  {
   "cell_type": "code",
   "execution_count": 17,
   "metadata": {},
   "outputs": [
    {
     "name": "stdout",
     "output_type": "stream",
     "text": [
      "Area of Square: 16\n",
      "Area of Rectangle: 20\n"
     ]
    }
   ],
   "source": [
    "def area(length, width=None):\n",
    "    if width is None:\n",
    "        return length * length\n",
    "    else:\n",
    "        return length * width\n",
    "print(\"Area of Square:\", area(4))\n",
    "print(\"Area of Rectangle:\", area(4, 5))"
   ]
  },
  {
   "cell_type": "code",
   "execution_count": 19,
   "metadata": {},
   "outputs": [
    {
     "name": "stdout",
     "output_type": "stream",
     "text": [
      "Bark\n",
      "Meow\n"
     ]
    }
   ],
   "source": [
    "class Animal:\n",
    "    def sound(self):\n",
    "        pass\n",
    "class Dog(Animal):\n",
    "    def sound(self):\n",
    "         return \"Bark\"\n",
    "class Cat(Animal):\n",
    "    def sound(self):\n",
    "        return \"Meow\"\n",
    "# Achieved Polymorphism\n",
    "def animal_sound(animal):\n",
    "    print(animal.sound())\n",
    "\n",
    "dog = Dog() \n",
    "cat = Cat()\n",
    "\n",
    "animal_sound(dog)\n",
    "animal_sound(cat)"
   ]
  },
  {
   "cell_type": "code",
   "execution_count": 4,
   "metadata": {},
   "outputs": [
    {
     "name": "stdout",
     "output_type": "stream",
     "text": [
      "meow\n"
     ]
    }
   ],
   "source": [
    "from abc import ABC, abstractmethod\n",
    "class Animal(ABC):\n",
    "    @abstractmethod\n",
    "    def __init__(self) -> None:\n",
    "        super().__init__()\n",
    "\n",
    "    @abstractmethod\n",
    "    def speak(self):\n",
    "        pass\n",
    "class Cat(Animal):\n",
    "    def __init__(self) -> None:\n",
    "        super().__init__()\n",
    "\n",
    "    def speak(self):\n",
    "        print(\"meow\")\n",
    "\n",
    "obj = Cat()\n",
    "obj.speak()"
   ]
  },
  {
   "cell_type": "markdown",
   "metadata": {},
   "source": [
    "# Abstraction"
   ]
  },
  {
   "cell_type": "code",
   "execution_count": 4,
   "metadata": {},
   "outputs": [
    {
     "name": "stdout",
     "output_type": "stream",
     "text": [
      "meow\n"
     ]
    }
   ],
   "source": [
    "from abc import ABC, abstractmethod\n",
    "class Animal(ABC):\n",
    "    @abstractmethod\n",
    "    def __init__(self) -> None:\n",
    "        super().__init__()\n",
    "\n",
    "    @abstractmethod\n",
    "    def speak(self):\n",
    "        pass\n",
    "class Cat(Animal):\n",
    "    def __init__(self) -> None:\n",
    "        super().__init__()\n",
    "\n",
    "    def speak(self):\n",
    "        print(\"meow\")\n",
    "\n",
    "obj = Cat()\n",
    "obj.speak()"
   ]
  },
  {
   "cell_type": "code",
   "execution_count": 7,
   "metadata": {},
   "outputs": [
    {
     "name": "stdout",
     "output_type": "stream",
     "text": [
      "Bark\n"
     ]
    }
   ],
   "source": [
    "class Dog(Animal):\n",
    "    def __init__(self) -> None:\n",
    "        super().__init__()\n",
    "    def speak(self):\n",
    "        print(\"Bark\")\n",
    "\n",
    "obj1=Dog()\n",
    "obj1.speak()"
   ]
  },
  {
   "cell_type": "markdown",
   "metadata": {},
   "source": [
    "# Encapsulation"
   ]
  },
  {
   "cell_type": "code",
   "execution_count": 25,
   "metadata": {},
   "outputs": [
    {
     "name": "stdout",
     "output_type": "stream",
     "text": [
      "10\n",
      "20\n",
      "10\n"
     ]
    }
   ],
   "source": [
    "class A():\n",
    "    def __init__(self,_a, __b) -> None: # single underscore -> Protected, double underscore -> private\n",
    "        self._a = _a # Protected\n",
    "        self.__b = __b # Private\n",
    "    def Check(self):\n",
    "        print(self._a)\n",
    "        print(self.__b)\n",
    "obj = A(10, 20)\n",
    "obj.Check()\n",
    "print(obj._a)\n",
    "# print(obj.__b)\n",
    "\n",
    "     "
   ]
  }
 ],
 "metadata": {
  "kernelspec": {
   "display_name": "Python 3.12.0 ('python12')",
   "language": "python",
   "name": "python3"
  },
  "language_info": {
   "codemirror_mode": {
    "name": "ipython",
    "version": 3
   },
   "file_extension": ".py",
   "mimetype": "text/x-python",
   "name": "python",
   "nbconvert_exporter": "python",
   "pygments_lexer": "ipython3",
   "version": "3.12.0"
  },
  "orig_nbformat": 4,
  "vscode": {
   "interpreter": {
    "hash": "52dc9c575b435be1b19d442cd1dd0b193782e77bd809d391fe1e2373fa9683e1"
   }
  }
 },
 "nbformat": 4,
 "nbformat_minor": 2
}
